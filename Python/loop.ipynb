{
 "cells": [
  {
   "cell_type": "markdown",
   "id": "721f0ebe-714d-4724-9f4f-928b6b9d52cd",
   "metadata": {},
   "source": [
    "# loop"
   ]
  },
  {
   "cell_type": "markdown",
   "id": "f61a4001-58db-41b8-8d51-2144129740f0",
   "metadata": {},
   "source": [
    "Lorenz Weidinger\n",
    "2024-11-18"
   ]
  },
  {
   "cell_type": "markdown",
   "id": "f592d190-4593-42ca-879f-96d68e995486",
   "metadata": {},
   "source": [
    "Python and Markdown with Jupyter"
   ]
  },
  {
   "cell_type": "markdown",
   "id": "b9fb160e-31ec-406d-b6e7-223a11e5e479",
   "metadata": {},
   "source": [
    "This is the loop code as jupyter file in Python. You can find the rendered html in this directory, too."
   ]
  },
  {
   "cell_type": "code",
   "execution_count": 8,
   "id": "19be8481-2023-4e8c-9fdf-87f7d7701ad8",
   "metadata": {},
   "outputs": [
    {
     "name": "stdout",
     "output_type": "stream",
     "text": [
      "1\n",
      "2\n",
      "3\n",
      "4\n",
      "5\n",
      "6\n",
      "7\n",
      "8\n",
      "9\n"
     ]
    }
   ],
   "source": [
    "for i in range(1,10):\n",
    "    print(i)"
   ]
  }
 ],
 "metadata": {
  "kernelspec": {
   "display_name": "Python 3 (ipykernel)",
   "language": "python",
   "name": "python3"
  },
  "language_info": {
   "codemirror_mode": {
    "name": "ipython",
    "version": 3
   },
   "file_extension": ".py",
   "mimetype": "text/x-python",
   "name": "python",
   "nbconvert_exporter": "python",
   "pygments_lexer": "ipython3",
   "version": "3.12.7"
  }
 },
 "nbformat": 4,
 "nbformat_minor": 5
}
